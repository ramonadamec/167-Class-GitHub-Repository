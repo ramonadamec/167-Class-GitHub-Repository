{
  "nbformat": 4,
  "nbformat_minor": 0,
  "metadata": {
    "colab": {
      "provenance": [],
      "include_colab_link": true
    },
    "kernelspec": {
      "name": "python3",
      "display_name": "Python 3"
    },
    "language_info": {
      "name": "python"
    }
  },
  "cells": [
    {
      "cell_type": "markdown",
      "metadata": {
        "id": "view-in-github",
        "colab_type": "text"
      },
      "source": [
        "<a href=\"https://colab.research.google.com/github/ramonadamec/167-Class-GitHub-Repository/blob/main/CSCI_167_Notebook_10_2_Convolution_for_MNIST_1D.ipynb\" target=\"_parent\"><img src=\"https://colab.research.google.com/assets/colab-badge.svg\" alt=\"Open In Colab\"/></a>"
      ]
    },
    {
      "cell_type": "markdown",
      "source": [
        "# **Notebook 10.2: Convolution for MNIST-1D**\n",
        "\n",
        "This notebook investigates a 1D convolutional network for MNIST-1D as in figure 10.7 and 10.8a.\n",
        "\n",
        "Work through the cells below, running each cell in turn. In various places you will see the words \"TODO\". Follow the instructions at these places and make predictions about what is going to happen or write code to complete the functions.\n",
        "\n",
        "Contact me at udlbookmail@gmail.com if you find any mistakes or have any suggestions.\n",
        "\n"
      ],
      "metadata": {
        "id": "t9vk9Elugvmi"
      }
    },
    {
      "cell_type": "code",
      "source": [
        "# Run this if you're in a Colab to install MNIST 1D repository\n",
        "!pip install git+https://github.com/greydanus/mnist1d"
      ],
      "metadata": {
        "id": "D5yLObtZCi9J",
        "colab": {
          "base_uri": "https://localhost:8080/"
        },
        "outputId": "c435e178-20b1-4bd6-cf57-ba5db14ab8d1"
      },
      "execution_count": 1,
      "outputs": [
        {
          "output_type": "stream",
          "name": "stdout",
          "text": [
            "Collecting git+https://github.com/greydanus/mnist1d\n",
            "  Cloning https://github.com/greydanus/mnist1d to /tmp/pip-req-build-lwnr83rz\n",
            "  Running command git clone --filter=blob:none --quiet https://github.com/greydanus/mnist1d /tmp/pip-req-build-lwnr83rz\n",
            "  Resolved https://github.com/greydanus/mnist1d to commit 7878d96082abd200c546a07a4101fa90b30fdf7e\n",
            "  Installing build dependencies ... \u001b[?25l\u001b[?25hdone\n",
            "  Getting requirements to build wheel ... \u001b[?25l\u001b[?25hdone\n",
            "  Preparing metadata (pyproject.toml) ... \u001b[?25l\u001b[?25hdone\n",
            "Requirement already satisfied: requests in /usr/local/lib/python3.12/dist-packages (from mnist1d==0.0.2.post16) (2.32.4)\n",
            "Requirement already satisfied: numpy in /usr/local/lib/python3.12/dist-packages (from mnist1d==0.0.2.post16) (2.0.2)\n",
            "Requirement already satisfied: matplotlib in /usr/local/lib/python3.12/dist-packages (from mnist1d==0.0.2.post16) (3.10.0)\n",
            "Requirement already satisfied: scipy in /usr/local/lib/python3.12/dist-packages (from mnist1d==0.0.2.post16) (1.16.3)\n",
            "Requirement already satisfied: contourpy>=1.0.1 in /usr/local/lib/python3.12/dist-packages (from matplotlib->mnist1d==0.0.2.post16) (1.3.3)\n",
            "Requirement already satisfied: cycler>=0.10 in /usr/local/lib/python3.12/dist-packages (from matplotlib->mnist1d==0.0.2.post16) (0.12.1)\n",
            "Requirement already satisfied: fonttools>=4.22.0 in /usr/local/lib/python3.12/dist-packages (from matplotlib->mnist1d==0.0.2.post16) (4.60.1)\n",
            "Requirement already satisfied: kiwisolver>=1.3.1 in /usr/local/lib/python3.12/dist-packages (from matplotlib->mnist1d==0.0.2.post16) (1.4.9)\n",
            "Requirement already satisfied: packaging>=20.0 in /usr/local/lib/python3.12/dist-packages (from matplotlib->mnist1d==0.0.2.post16) (25.0)\n",
            "Requirement already satisfied: pillow>=8 in /usr/local/lib/python3.12/dist-packages (from matplotlib->mnist1d==0.0.2.post16) (11.3.0)\n",
            "Requirement already satisfied: pyparsing>=2.3.1 in /usr/local/lib/python3.12/dist-packages (from matplotlib->mnist1d==0.0.2.post16) (3.2.5)\n",
            "Requirement already satisfied: python-dateutil>=2.7 in /usr/local/lib/python3.12/dist-packages (from matplotlib->mnist1d==0.0.2.post16) (2.9.0.post0)\n",
            "Requirement already satisfied: charset_normalizer<4,>=2 in /usr/local/lib/python3.12/dist-packages (from requests->mnist1d==0.0.2.post16) (3.4.4)\n",
            "Requirement already satisfied: idna<4,>=2.5 in /usr/local/lib/python3.12/dist-packages (from requests->mnist1d==0.0.2.post16) (3.11)\n",
            "Requirement already satisfied: urllib3<3,>=1.21.1 in /usr/local/lib/python3.12/dist-packages (from requests->mnist1d==0.0.2.post16) (2.5.0)\n",
            "Requirement already satisfied: certifi>=2017.4.17 in /usr/local/lib/python3.12/dist-packages (from requests->mnist1d==0.0.2.post16) (2025.10.5)\n",
            "Requirement already satisfied: six>=1.5 in /usr/local/lib/python3.12/dist-packages (from python-dateutil>=2.7->matplotlib->mnist1d==0.0.2.post16) (1.17.0)\n",
            "Building wheels for collected packages: mnist1d\n",
            "  Building wheel for mnist1d (pyproject.toml) ... \u001b[?25l\u001b[?25hdone\n",
            "  Created wheel for mnist1d: filename=mnist1d-0.0.2.post16-py3-none-any.whl size=14665 sha256=04f951f17279797d028c456b948c9b635fc612604e9a498d2a42be46bcdaa146\n",
            "  Stored in directory: /tmp/pip-ephem-wheel-cache-albn193n/wheels/18/40/b6/29381fee9b4c80fdbc304d52bb065a7286bbcca5ca2b8737c0\n",
            "Successfully built mnist1d\n",
            "Installing collected packages: mnist1d\n",
            "Successfully installed mnist1d-0.0.2.post16\n"
          ]
        }
      ]
    },
    {
      "cell_type": "code",
      "source": [
        "import numpy as np\n",
        "import os\n",
        "import torch, torch.nn as nn\n",
        "from torch.utils.data import TensorDataset, DataLoader\n",
        "from torch.optim.lr_scheduler import StepLR\n",
        "import matplotlib.pyplot as plt\n",
        "import mnist1d\n",
        "import random"
      ],
      "metadata": {
        "id": "YrXWAH7sUWvU"
      },
      "execution_count": 2,
      "outputs": []
    },
    {
      "cell_type": "code",
      "source": [
        "args = mnist1d.data.get_dataset_args()\n",
        "data = mnist1d.data.get_dataset(args, path='./mnist1d_data.pkl', download=False, regenerate=False)\n",
        "\n",
        "# The training and test input and outputs are in\n",
        "# data['x'], data['y'], data['x_test'], and data['y_test']\n",
        "print(\"Examples in training set: {}\".format(len(data['y'])))\n",
        "print(\"Examples in test set: {}\".format(len(data['y_test'])))\n",
        "print(\"Length of each example: {}\".format(data['x'].shape[-1]))"
      ],
      "metadata": {
        "id": "twI72ZCrCt5z",
        "colab": {
          "base_uri": "https://localhost:8080/"
        },
        "outputId": "377425e1-6289-4483-9188-df73cc13105e"
      },
      "execution_count": 3,
      "outputs": [
        {
          "output_type": "stream",
          "name": "stdout",
          "text": [
            "Did or could not load data from ./mnist1d_data.pkl. Rebuilding dataset...\n",
            "Examples in training set: 4000\n",
            "Examples in test set: 1000\n",
            "Length of each example: 40\n"
          ]
        }
      ]
    },
    {
      "cell_type": "code",
      "source": [
        "# Load in the data\n",
        "train_data_x = data['x'].transpose()\n",
        "train_data_y = data['y']\n",
        "val_data_x = data['x_test'].transpose()\n",
        "val_data_y = data['y_test']\n",
        "# Print out sizes\n",
        "print(\"Train data: %d examples (columns), each of which has %d dimensions (rows)\"%((train_data_x.shape[1],train_data_x.shape[0])))\n",
        "print(\"Validation data: %d examples (columns), each of which has %d dimensions (rows)\"%((val_data_x.shape[1],val_data_x.shape[0])))"
      ],
      "metadata": {
        "id": "8bKADvLHbiV5",
        "colab": {
          "base_uri": "https://localhost:8080/"
        },
        "outputId": "b8048517-9c04-4a01-d48f-ea386d2c68b8"
      },
      "execution_count": 4,
      "outputs": [
        {
          "output_type": "stream",
          "name": "stdout",
          "text": [
            "Train data: 4000 examples (columns), each of which has 40 dimensions (rows)\n",
            "Validation data: 1000 examples (columns), each of which has 40 dimensions (rows)\n"
          ]
        }
      ]
    },
    {
      "cell_type": "markdown",
      "source": [
        "Define the network"
      ],
      "metadata": {
        "id": "_sFvRDGrl4qe"
      }
    },
    {
      "cell_type": "code",
      "source": [
        "# There are 40 input dimensions and 10 output dimensions for this data\n",
        "# The inputs correspond to the 40 offsets in the MNIST1D template.\n",
        "D_i = 40\n",
        "# The outputs correspond to the 10 digits\n",
        "D_o = 10\n",
        "\n",
        "\n",
        "# TODO Create a model with the following layers\n",
        "# 1. Convolutional layer, (input=length 40 and 1 channel, kernel size 3, stride 2, padding=\"valid\", 15 output channels )\n",
        "# 2. ReLU\n",
        "# 3. Convolutional layer, (input=length 19 and 15 channels, kernel size 3, stride 2, padding=\"valid\", 15 output channels )\n",
        "# 4. ReLU\n",
        "# 5. Convolutional layer, (input=length 9 and 15 channels, kernel size 3, stride 2, padding=\"valid\", 15 output channels)\n",
        "# 6. ReLU\n",
        "# 7. Flatten (converts 4x15) to length 60\n",
        "# 8. Linear layer (input size = 60, output size = 10)\n",
        "# References:\n",
        "# https://pytorch.org/docs/1.13/generated/torch.nn.Conv1d.html?highlight=conv1d#torch.nn.Conv1d\n",
        "# https://pytorch.org/docs/stable/generated/torch.nn.Flatten.html\n",
        "# https://pytorch.org/docs/1.13/generated/torch.nn.Linear.html?highlight=linear#torch.nn.Linear\n",
        "\n",
        "# NOTE THAT THE CONVOLUTIONAL LAYERS NEED TO TAKE THE NUMBER OF INPUT CHANNELS AS A PARAMETER\n",
        "# AND NOT THE INPUT SIZE.\n",
        "\n",
        "# Replace the following function:\n",
        "model = nn.Sequential(\n",
        "    nn.Conv1d(in_channels=1, out_channels=15, kernel_size=3, stride=2, padding=0),\n",
        "    nn.ReLU(),\n",
        "    nn.Conv1d(in_channels=15, out_channels=15, kernel_size=3, stride=2, padding=0),\n",
        "    nn.ReLU(),\n",
        "    nn.Conv1d(in_channels=15, out_channels=15, kernel_size=3, stride=2, padding=0),\n",
        "    nn.ReLU(),\n",
        "    nn.Flatten(),\n",
        "    nn.Linear(60, D_o)\n",
        ")\n",
        "\n",
        "\n",
        "\n"
      ],
      "metadata": {
        "id": "FslroPJJffrh"
      },
      "execution_count": 5,
      "outputs": []
    },
    {
      "cell_type": "code",
      "source": [
        "# He initialization of weights\n",
        "def weights_init(layer_in):\n",
        "  if isinstance(layer_in, nn.Linear):\n",
        "    nn.init.kaiming_uniform_(layer_in.weight)\n",
        "    layer_in.bias.data.fill_(0.0)"
      ],
      "metadata": {
        "id": "YgLaex1pfhqz"
      },
      "execution_count": 6,
      "outputs": []
    },
    {
      "cell_type": "code",
      "source": [
        "# choose cross entropy loss function (equation 5.24 in the loss notes)\n",
        "loss_function = nn.CrossEntropyLoss()\n",
        "# construct SGD optimizer and initialize learning rate and momentum\n",
        "optimizer = torch.optim.SGD(model.parameters(), lr = 0.05, momentum=0.9)\n",
        "# object that decreases learning rate by half every 20 epochs\n",
        "scheduler = StepLR(optimizer, step_size=20, gamma=0.5)\n",
        "# create 100 dummy data points and store in data loader class\n",
        "x_train = torch.tensor(train_data_x.transpose().astype('float32'))\n",
        "y_train = torch.tensor(train_data_y.astype('long')).long()\n",
        "x_val= torch.tensor(val_data_x.transpose().astype('float32'))\n",
        "y_val = torch.tensor(val_data_y.astype('long')).long()\n",
        "\n",
        "# load the data into a class that creates the batches\n",
        "data_loader = DataLoader(TensorDataset(x_train,y_train), batch_size=100, shuffle=True, worker_init_fn=np.random.seed(1))\n",
        "\n",
        "# Initialize model weights\n",
        "model.apply(weights_init)\n",
        "\n",
        "# loop over the dataset n_epoch times\n",
        "n_epoch = 100\n",
        "# store the loss and the % correct at each epoch\n",
        "losses_train = np.zeros((n_epoch))\n",
        "errors_train = np.zeros((n_epoch))\n",
        "losses_val = np.zeros((n_epoch))\n",
        "errors_val = np.zeros((n_epoch))\n",
        "\n",
        "for epoch in range(n_epoch):\n",
        "  # loop over batches\n",
        "  for i, data in enumerate(data_loader):\n",
        "    # retrieve inputs and labels for this batch\n",
        "    x_batch, y_batch = data\n",
        "    # zero the parameter gradients\n",
        "    optimizer.zero_grad()\n",
        "    # forward pass -- calculate model output\n",
        "    pred = model(x_batch[:,None,:])\n",
        "    # compute the loss\n",
        "    loss = loss_function(pred, y_batch)\n",
        "    # backward pass\n",
        "    loss.backward()\n",
        "    # SGD update\n",
        "    optimizer.step()\n",
        "\n",
        "  # Run whole dataset to get statistics -- normally wouldn't do this\n",
        "  pred_train = model(x_train[:,None,:])\n",
        "  pred_val = model(x_val[:,None,:])\n",
        "  _, predicted_train_class = torch.max(pred_train.data, 1)\n",
        "  _, predicted_val_class = torch.max(pred_val.data, 1)\n",
        "  errors_train[epoch] = 100 - 100 * (predicted_train_class == y_train).float().sum() / len(y_train)\n",
        "  errors_val[epoch]= 100 - 100 * (predicted_val_class == y_val).float().sum() / len(y_val)\n",
        "  losses_train[epoch] = loss_function(pred_train, y_train).item()\n",
        "  losses_val[epoch]= loss_function(pred_val, y_val).item()\n",
        "  print(f'Epoch {epoch:5d}, train loss {losses_train[epoch]:.6f}, train error {errors_train[epoch]:3.2f},  val loss {losses_val[epoch]:.6f}, percent error {errors_val[epoch]:3.2f}')\n",
        "\n",
        "  # tell scheduler to consider updating learning rate\n",
        "  scheduler.step()\n",
        "\n",
        "# Plot the results\n",
        "fig, ax = plt.subplots()\n",
        "ax.plot(errors_train,'r-',label='train')\n",
        "ax.plot(errors_val,'b-',label='validation')\n",
        "ax.set_ylim(0,100); ax.set_xlim(0,n_epoch)\n",
        "ax.set_xlabel('Epoch'); ax.set_ylabel('Error')\n",
        "ax.set_title('Part I: Validation Result %3.2f'%(errors_val[-1]))\n",
        "ax.legend()\n",
        "plt.show()"
      ],
      "metadata": {
        "id": "NYw8I_3mmX5c",
        "colab": {
          "base_uri": "https://localhost:8080/",
          "height": 1000
        },
        "outputId": "7a72995d-6605-45bf-e20f-cd7e88855f2e"
      },
      "execution_count": 7,
      "outputs": [
        {
          "output_type": "stream",
          "name": "stdout",
          "text": [
            "Epoch     0, train loss 1.938506, train error 76.20,  val loss 1.964232, percent error 78.30\n",
            "Epoch     1, train loss 1.667489, train error 68.62,  val loss 1.698802, percent error 69.10\n",
            "Epoch     2, train loss 1.373317, train error 54.80,  val loss 1.374358, percent error 56.00\n",
            "Epoch     3, train loss 1.300389, train error 54.05,  val loss 1.317322, percent error 53.70\n",
            "Epoch     4, train loss 1.247812, train error 49.67,  val loss 1.272315, percent error 53.40\n",
            "Epoch     5, train loss 1.205069, train error 47.08,  val loss 1.218767, percent error 48.80\n",
            "Epoch     6, train loss 1.016479, train error 39.97,  val loss 1.037042, percent error 41.30\n",
            "Epoch     7, train loss 0.935073, train error 37.28,  val loss 0.985004, percent error 39.50\n",
            "Epoch     8, train loss 0.892825, train error 34.85,  val loss 0.943186, percent error 37.60\n",
            "Epoch     9, train loss 0.770334, train error 29.38,  val loss 0.831739, percent error 33.10\n",
            "Epoch    10, train loss 0.689035, train error 26.20,  val loss 0.751599, percent error 28.40\n",
            "Epoch    11, train loss 0.634510, train error 24.07,  val loss 0.715339, percent error 26.90\n",
            "Epoch    12, train loss 0.513720, train error 19.20,  val loss 0.590986, percent error 21.30\n",
            "Epoch    13, train loss 0.511391, train error 18.90,  val loss 0.608113, percent error 22.90\n",
            "Epoch    14, train loss 0.432796, train error 15.80,  val loss 0.541453, percent error 19.10\n",
            "Epoch    15, train loss 0.417809, train error 15.18,  val loss 0.518680, percent error 17.90\n",
            "Epoch    16, train loss 0.310724, train error 11.15,  val loss 0.431821, percent error 15.00\n",
            "Epoch    17, train loss 0.312892, train error 10.70,  val loss 0.439965, percent error 15.10\n",
            "Epoch    18, train loss 0.249768, train error 8.68,  val loss 0.410082, percent error 13.30\n",
            "Epoch    19, train loss 0.284134, train error 10.28,  val loss 0.437559, percent error 14.20\n",
            "Epoch    20, train loss 0.180875, train error 5.75,  val loss 0.318706, percent error 10.20\n",
            "Epoch    21, train loss 0.167767, train error 5.93,  val loss 0.332133, percent error 8.90\n",
            "Epoch    22, train loss 0.188332, train error 6.03,  val loss 0.349448, percent error 10.50\n",
            "Epoch    23, train loss 0.150592, train error 5.15,  val loss 0.321477, percent error 9.20\n",
            "Epoch    24, train loss 0.162200, train error 5.62,  val loss 0.332598, percent error 11.10\n",
            "Epoch    25, train loss 0.159831, train error 5.45,  val loss 0.333354, percent error 10.40\n",
            "Epoch    26, train loss 0.145327, train error 5.07,  val loss 0.331637, percent error 9.90\n",
            "Epoch    27, train loss 0.153117, train error 5.47,  val loss 0.353202, percent error 11.20\n",
            "Epoch    28, train loss 0.141705, train error 4.53,  val loss 0.336810, percent error 9.20\n",
            "Epoch    29, train loss 0.136759, train error 4.53,  val loss 0.334345, percent error 9.60\n",
            "Epoch    30, train loss 0.139029, train error 4.88,  val loss 0.340893, percent error 9.90\n",
            "Epoch    31, train loss 0.126145, train error 4.35,  val loss 0.333913, percent error 9.90\n",
            "Epoch    32, train loss 0.111305, train error 3.82,  val loss 0.320907, percent error 8.90\n",
            "Epoch    33, train loss 0.131094, train error 4.88,  val loss 0.350181, percent error 10.20\n",
            "Epoch    34, train loss 0.106277, train error 3.50,  val loss 0.322245, percent error 9.30\n",
            "Epoch    35, train loss 0.097816, train error 3.05,  val loss 0.309519, percent error 8.90\n",
            "Epoch    36, train loss 0.108787, train error 3.75,  val loss 0.335169, percent error 10.60\n",
            "Epoch    37, train loss 0.094914, train error 3.20,  val loss 0.317429, percent error 8.60\n",
            "Epoch    38, train loss 0.099027, train error 3.12,  val loss 0.343032, percent error 9.20\n",
            "Epoch    39, train loss 0.098676, train error 3.53,  val loss 0.341362, percent error 9.40\n",
            "Epoch    40, train loss 0.084825, train error 2.85,  val loss 0.332194, percent error 9.40\n",
            "Epoch    41, train loss 0.075535, train error 2.20,  val loss 0.337564, percent error 9.00\n",
            "Epoch    42, train loss 0.071275, train error 2.03,  val loss 0.324535, percent error 9.30\n",
            "Epoch    43, train loss 0.069984, train error 2.03,  val loss 0.332351, percent error 9.70\n",
            "Epoch    44, train loss 0.071814, train error 2.28,  val loss 0.338578, percent error 8.70\n",
            "Epoch    45, train loss 0.067043, train error 1.95,  val loss 0.334041, percent error 8.70\n",
            "Epoch    46, train loss 0.066621, train error 1.95,  val loss 0.330713, percent error 8.60\n",
            "Epoch    47, train loss 0.068393, train error 2.00,  val loss 0.337440, percent error 9.60\n",
            "Epoch    48, train loss 0.066627, train error 1.90,  val loss 0.342656, percent error 9.20\n",
            "Epoch    49, train loss 0.063014, train error 1.68,  val loss 0.343840, percent error 9.70\n",
            "Epoch    50, train loss 0.061566, train error 1.53,  val loss 0.333953, percent error 9.40\n",
            "Epoch    51, train loss 0.071726, train error 2.32,  val loss 0.353841, percent error 9.80\n",
            "Epoch    52, train loss 0.060410, train error 1.75,  val loss 0.342945, percent error 8.90\n",
            "Epoch    53, train loss 0.058494, train error 1.72,  val loss 0.346071, percent error 8.80\n",
            "Epoch    54, train loss 0.054399, train error 1.35,  val loss 0.343532, percent error 8.80\n",
            "Epoch    55, train loss 0.055034, train error 1.53,  val loss 0.345750, percent error 9.30\n",
            "Epoch    56, train loss 0.052724, train error 1.28,  val loss 0.343438, percent error 9.40\n",
            "Epoch    57, train loss 0.054528, train error 1.43,  val loss 0.351245, percent error 9.50\n",
            "Epoch    58, train loss 0.050876, train error 1.28,  val loss 0.349862, percent error 9.30\n",
            "Epoch    59, train loss 0.056434, train error 1.55,  val loss 0.350602, percent error 9.20\n",
            "Epoch    60, train loss 0.047580, train error 1.25,  val loss 0.352638, percent error 9.10\n",
            "Epoch    61, train loss 0.046278, train error 1.10,  val loss 0.349727, percent error 9.30\n",
            "Epoch    62, train loss 0.045767, train error 1.00,  val loss 0.355217, percent error 9.30\n",
            "Epoch    63, train loss 0.045255, train error 1.07,  val loss 0.352596, percent error 9.40\n",
            "Epoch    64, train loss 0.046280, train error 1.15,  val loss 0.360866, percent error 9.00\n",
            "Epoch    65, train loss 0.044297, train error 1.05,  val loss 0.362758, percent error 9.30\n",
            "Epoch    66, train loss 0.044386, train error 0.97,  val loss 0.360221, percent error 9.50\n",
            "Epoch    67, train loss 0.048506, train error 1.32,  val loss 0.368858, percent error 9.60\n",
            "Epoch    68, train loss 0.041975, train error 0.93,  val loss 0.358212, percent error 9.40\n",
            "Epoch    69, train loss 0.043807, train error 1.03,  val loss 0.367498, percent error 9.60\n",
            "Epoch    70, train loss 0.042553, train error 0.97,  val loss 0.364198, percent error 9.20\n",
            "Epoch    71, train loss 0.041804, train error 0.93,  val loss 0.366890, percent error 9.50\n",
            "Epoch    72, train loss 0.042829, train error 0.97,  val loss 0.370279, percent error 9.20\n",
            "Epoch    73, train loss 0.040507, train error 0.93,  val loss 0.365335, percent error 9.30\n",
            "Epoch    74, train loss 0.039325, train error 0.80,  val loss 0.367501, percent error 9.50\n",
            "Epoch    75, train loss 0.039664, train error 0.75,  val loss 0.368638, percent error 9.30\n",
            "Epoch    76, train loss 0.041229, train error 0.95,  val loss 0.371862, percent error 9.90\n",
            "Epoch    77, train loss 0.038948, train error 0.80,  val loss 0.370868, percent error 9.60\n",
            "Epoch    78, train loss 0.038914, train error 0.82,  val loss 0.371574, percent error 9.60\n",
            "Epoch    79, train loss 0.038239, train error 0.78,  val loss 0.378067, percent error 9.40\n",
            "Epoch    80, train loss 0.037415, train error 0.78,  val loss 0.374382, percent error 9.60\n",
            "Epoch    81, train loss 0.036834, train error 0.70,  val loss 0.376031, percent error 9.50\n",
            "Epoch    82, train loss 0.037330, train error 0.72,  val loss 0.378607, percent error 9.50\n",
            "Epoch    83, train loss 0.036732, train error 0.65,  val loss 0.376578, percent error 9.50\n",
            "Epoch    84, train loss 0.036146, train error 0.70,  val loss 0.378154, percent error 9.30\n",
            "Epoch    85, train loss 0.037212, train error 0.80,  val loss 0.382283, percent error 9.60\n",
            "Epoch    86, train loss 0.035618, train error 0.65,  val loss 0.380749, percent error 9.50\n",
            "Epoch    87, train loss 0.035612, train error 0.68,  val loss 0.380807, percent error 9.40\n",
            "Epoch    88, train loss 0.035468, train error 0.65,  val loss 0.379566, percent error 9.50\n",
            "Epoch    89, train loss 0.035098, train error 0.68,  val loss 0.383333, percent error 9.50\n",
            "Epoch    90, train loss 0.035123, train error 0.68,  val loss 0.381956, percent error 9.60\n",
            "Epoch    91, train loss 0.035865, train error 0.75,  val loss 0.385482, percent error 9.60\n",
            "Epoch    92, train loss 0.034874, train error 0.68,  val loss 0.384914, percent error 9.60\n",
            "Epoch    93, train loss 0.034587, train error 0.68,  val loss 0.386573, percent error 9.70\n",
            "Epoch    94, train loss 0.034339, train error 0.65,  val loss 0.384472, percent error 9.40\n",
            "Epoch    95, train loss 0.033973, train error 0.60,  val loss 0.384911, percent error 9.50\n",
            "Epoch    96, train loss 0.034023, train error 0.57,  val loss 0.386500, percent error 9.60\n",
            "Epoch    97, train loss 0.033851, train error 0.62,  val loss 0.386352, percent error 9.40\n",
            "Epoch    98, train loss 0.033761, train error 0.62,  val loss 0.386340, percent error 9.50\n",
            "Epoch    99, train loss 0.035525, train error 0.65,  val loss 0.388057, percent error 9.80\n"
          ]
        },
        {
          "output_type": "display_data",
          "data": {
            "text/plain": [
              "<Figure size 640x480 with 1 Axes>"
            ],
            "image/png": "[encoded data removed]"
          },
          "metadata": {}
        }
      ]
    }
  ]
}